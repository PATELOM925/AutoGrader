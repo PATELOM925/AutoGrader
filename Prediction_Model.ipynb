{
  "nbformat": 4,
  "nbformat_minor": 0,
  "metadata": {
    "colab": {
      "provenance": [],
      "authorship_tag": "ABX9TyM2HKe1UqEkzB8COr3HliXq",
      "include_colab_link": true
    },
    "kernelspec": {
      "name": "python3",
      "display_name": "Python 3"
    },
    "language_info": {
      "name": "python"
    }
  },
  "cells": [
    {
      "cell_type": "markdown",
      "metadata": {
        "id": "view-in-github",
        "colab_type": "text"
      },
      "source": [
        "<a href=\"https://colab.research.google.com/github/PATELOM925/Automatic-Paper-Checker/blob/main/Prediction_Model.ipynb\" target=\"_parent\"><img src=\"https://colab.research.google.com/assets/colab-badge.svg\" alt=\"Open In Colab\"/></a>"
      ]
    },
    {
      "cell_type": "code",
      "source": [
        "import spacy\n"
      ],
      "metadata": {
        "id": "OX0dF9flNAtJ"
      },
      "execution_count": 1,
      "outputs": []
    },
    {
      "cell_type": "code",
      "execution_count": 3,
      "metadata": {
        "colab": {
          "base_uri": "https://localhost:8080/"
        },
        "id": "WNn0Ui3GM-z8",
        "outputId": "a79130e7-c0e6-4572-bf33-0f33beeb29de"
      },
      "outputs": [
        {
          "output_type": "stream",
          "name": "stdout",
          "text": [
            "Semantic Similarity Score: 0.6599731950064821\n"
          ]
        },
        {
          "output_type": "stream",
          "name": "stderr",
          "text": [
            "<ipython-input-3-8f47625f29f3>:7: UserWarning: [W007] The model you're using has no word vectors loaded, so the result of the Doc.similarity method will be based on the tagger, parser and NER, which may not give useful similarity judgements. This may happen if you're using one of the small models, e.g. `en_core_web_sm`, which don't ship with word vectors and only use context-sensitive tensors. You can always add your own word vectors, or use one of the larger models instead if available.\n",
            "  similarity = data1.similarity(data2)\n"
          ]
        }
      ],
      "source": [
        "\n",
        "nlp = spacy.load(\"en_core_web_sm\")\n",
        "\n",
        "def calc_similarity(text1, text2):\n",
        "    data1 = nlp(Student)\n",
        "    data2 = nlp(Teacher)\n",
        "\n",
        "    similarity = data1.similarity(data2)\n",
        "    return similarity\n",
        "\n",
        "if __name__ == \"__main__\":\n",
        "    # Example text strings for comparison\n",
        "    Student = \"Deliciovs eghsti tot for: tone in you! Favorite)eNe Dted bor octetiM’ nors soevvle? and.{ Cote BS Great OF ot sale ort\"\n",
        "    Teacher = \"Delicious subsstitute. for. tuna in. your. Favorite recipes,Perfect.for.creative.horsd'oruvres.andSnacks. Greatas a salad topper. \"\n",
        "\n",
        "    # Calculate and print the semantic similarity\n",
        "    similarity_score = calc_similarity(Teacher, Student)\n",
        "    print(f\"Semantic Similarity Score: {similarity_score}\")\n"
      ]
    }
  ]
}